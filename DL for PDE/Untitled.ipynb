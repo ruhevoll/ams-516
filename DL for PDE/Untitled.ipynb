{
 "cells": [
  {
   "cell_type": "markdown",
   "id": "023f04a0-82b8-4f10-9d0c-637b09ed7974",
   "metadata": {},
   "source": [
    "# Deep optimal stopping and free-boundary problems"
   ]
  },
  {
   "cell_type": "markdown",
   "id": "6f88464d-ca65-47de-af47-0c6ef0204bdc",
   "metadata": {},
   "source": []
  }
 ],
 "metadata": {
  "kernelspec": {
   "display_name": "Python [conda env:base] *",
   "language": "python",
   "name": "conda-base-py"
  },
  "language_info": {
   "codemirror_mode": {
    "name": "ipython",
    "version": 3
   },
   "file_extension": ".py",
   "mimetype": "text/x-python",
   "name": "python",
   "nbconvert_exporter": "python",
   "pygments_lexer": "ipython3",
   "version": "3.12.3"
  }
 },
 "nbformat": 4,
 "nbformat_minor": 5
}
