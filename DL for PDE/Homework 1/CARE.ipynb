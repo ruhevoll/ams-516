{
 "cells": [
  {
   "cell_type": "markdown",
   "id": "90ba525c-bdf3-4e65-b73f-42af25dd4a3f",
   "metadata": {},
   "source": [
    "# Solving Continuous Algebraic Riccati Equations with Python"
   ]
  },
  {
   "cell_type": "markdown",
   "id": "36ba6bad-73d0-474a-92b0-41f7c75a6cd0",
   "metadata": {},
   "source": [
    "We want to solve the equation $$A^T P + PA - PBR^{-1}B^TP + Q - \\rho P = 0 \\tag{$\\star$}$$ for the matrix $P$, where $$ \\rho = 0.1, \\quad A = \\begin{bmatrix} 0 & 1 \\\\ -2 & -3\\end{bmatrix}, \\quad B = \\begin{bmatrix} 0 \\\\ 1\\end{bmatrix}, \\quad G = \\begin{bmatrix} 0.1 & 0 \\\\ 0 & 0.1\\end{bmatrix}, \\quad Q = \\begin{bmatrix} 1 & 0 \\\\ 0 & 1\\end{bmatrix}, \\quad R = [1]$$"
   ]
  },
  {
   "cell_type": "markdown",
   "id": "abc4a8ed-15fe-4f36-b772-3d429f6de5eb",
   "metadata": {},
   "source": [
    "Import the following Python modules:"
   ]
  },
  {
   "cell_type": "code",
   "execution_count": 1,
   "id": "dd8b7e68-998d-4f61-b922-c8117b2ecb37",
   "metadata": {},
   "outputs": [],
   "source": [
    "import numpy as np\n",
    "from scipy.linalg import solve_continuous_are"
   ]
  },
  {
   "cell_type": "markdown",
   "id": "20bfb2f5-63e3-40c4-89c5-7420c89e6d06",
   "metadata": {},
   "source": [
    "Initialize the parameters:"
   ]
  },
  {
   "cell_type": "code",
   "execution_count": 17,
   "id": "a397eb0c-e52d-45ca-96cf-fa80853d1bc6",
   "metadata": {},
   "outputs": [
    {
     "name": "stdout",
     "output_type": "stream",
     "text": [
      "[[ 0  1]\n",
      " [-2 -3]]\n",
      "[[0]\n",
      " [1]]\n",
      "[[0.1 0. ]\n",
      " [0.  0.1]]\n",
      "[[1. 0.]\n",
      " [0. 1.]]\n",
      "[[1.]]\n"
     ]
    }
   ],
   "source": [
    "rho = 0.1\n",
    "A = np.array([[0, 1], [-2, -3]])\n",
    "B = np.array([[0, 1]]).T\n",
    "G = 0.1*np.eye(2) \n",
    "Q = np.eye(2)\n",
    "R = np.eye(1)\n",
    "\n",
    "print(A)\n",
    "print(B)\n",
    "print(G)\n",
    "print(Q)\n",
    "print(R)"
   ]
  },
  {
   "cell_type": "markdown",
   "id": "28078b9c-7697-4d9e-8b5f-b3de4c0b4f68",
   "metadata": {},
   "source": [
    "The function `solve_continuous_are(a, b, q, r, e = None, s = None, balanced = True)` solves the continuous-time algebraic Riccati equation $$A^TX + XA - XBR^{-1}B^T X + Q = 0 \\tag{$\\star \\star$}$$ "
   ]
  },
  {
   "cell_type": "markdown",
   "id": "734da204-acce-45c3-af03-03a98a8f033c",
   "metadata": {},
   "source": [
    "Here, $H$ means the conjugate transpose (which in the case of real matrices, is just transpose). "
   ]
  },
  {
   "cell_type": "markdown",
   "id": "70f54913-7dca-4d5f-a88b-788e741e1f91",
   "metadata": {},
   "source": [
    "Since the equation $(\\star \\star)$ we can solve with `solve_continuous_are` is in a different form than $(\\star)$, we have to modify $A \\to A - \\frac{\\rho}{2} A$ in $(\\star \\star)$."
   ]
  },
  {
   "cell_type": "code",
   "execution_count": 18,
   "id": "6f053ff8-72e9-47f2-b54c-a01c6503e61c",
   "metadata": {},
   "outputs": [],
   "source": [
    "A_mod = A - (rho/2)*A"
   ]
  },
  {
   "cell_type": "markdown",
   "id": "9f3cd999-fa26-431e-ae55-9a188d112586",
   "metadata": {},
   "source": [
    "Now, we can call the function."
   ]
  },
  {
   "cell_type": "code",
   "execution_count": 19,
   "id": "34db26b9-227b-4b81-aaeb-96932b82b769",
   "metadata": {},
   "outputs": [
    {
     "name": "stdout",
     "output_type": "stream",
     "text": [
      "[[1.23606798 0.23606798]\n",
      " [0.23606798 0.23606798]]\n"
     ]
    }
   ],
   "source": [
    "P = solve_continuous_are(A, B, Q, R)\n",
    "print(P)"
   ]
  },
  {
   "cell_type": "markdown",
   "id": "91c25bc1-b150-43e3-a6bf-6fc46f550609",
   "metadata": {},
   "source": [
    "The solution $P$ is $$\\begin{bmatrix} 1.23606798 & 0.23606798 \\\\ 0.23606798 &0.23606798\\end{bmatrix}$$"
   ]
  },
  {
   "cell_type": "markdown",
   "id": "fa712328-e062-483a-a483-b7420766a888",
   "metadata": {},
   "source": [
    "Now, $V(x) = x^TPx + c$ where $c = \\mathrm{tr}(GG^T P)/\\rho$. We compute $c$:"
   ]
  },
  {
   "cell_type": "code",
   "execution_count": 26,
   "id": "7f32734f-a991-47e7-b28d-ac127bd3e0a2",
   "metadata": {},
   "outputs": [
    {
     "name": "stdout",
     "output_type": "stream",
     "text": [
      "0.002000000000000001\n"
     ]
    }
   ],
   "source": [
    "c = np.trace(G*G.T*P)/rho\n",
    "print(c)"
   ]
  },
  {
   "cell_type": "markdown",
   "id": "1c959189-a2e8-4c40-b989-5e8eeab2ce31",
   "metadata": {},
   "source": [
    "So, $$V(x, y) = [x \\ y] \\begin{bmatrix} 1.23606798 & 0.23606798 \\\\ 0.23606798 &0.23606798\\end{bmatrix} \\begin{bmatrix} x \\\\ y\\end{bmatrix} + 0.002 = 1.23606798 x^2 + 0.47213596xy + 0.23606798y^2 + 0.002.$$"
   ]
  },
  {
   "cell_type": "markdown",
   "id": "7a455fcc-54af-415b-9370-1907db8d5229",
   "metadata": {},
   "source": [
    "We can write $V$ as a Python function:"
   ]
  },
  {
   "cell_type": "code",
   "execution_count": 31,
   "id": "7feee6f5-0893-48de-af13-ceb4748cb73b",
   "metadata": {},
   "outputs": [],
   "source": [
    "def V(x, y):\n",
    "    return 1.23606798*x**2 + 0.47213596*x*y + 0.23606798*y**2 + 0.002"
   ]
  },
  {
   "cell_type": "markdown",
   "id": "1c586c50-0ec1-40f2-a856-16a027e455da",
   "metadata": {},
   "source": [
    "The optimal control $u$ is given by $u(x) = -R^{-1} B^T P x$. We first compute $R^{-1}B^T P$:"
   ]
  },
  {
   "cell_type": "code",
   "execution_count": 33,
   "id": "8727b909-a8b0-422c-9be5-bfe330448de1",
   "metadata": {},
   "outputs": [
    {
     "name": "stdout",
     "output_type": "stream",
     "text": [
      "[[0.   0.  ]\n",
      " [0.   0.01]]\n"
     ]
    }
   ],
   "source": [
    "print(np.linalg.inv(R)*B.T*P)"
   ]
  },
  {
   "cell_type": "markdown",
   "id": "6ff053c2-f87b-4b96-ab44-e4bc7752c0db",
   "metadata": {},
   "source": [
    "So, the optimal control is $$u([x \\ y]) = - \\begin{bmatrix} 0 & 0 \\\\ 0 & 0.01\\end{bmatrix} \\begin{bmatrix} x \\\\ y \\end{bmatrix} = -0.01y.$$"
   ]
  }
 ],
 "metadata": {
  "kernelspec": {
   "display_name": "Python 3 (ipykernel)",
   "language": "python",
   "name": "python3"
  },
  "language_info": {
   "codemirror_mode": {
    "name": "ipython",
    "version": 3
   },
   "file_extension": ".py",
   "mimetype": "text/x-python",
   "name": "python",
   "nbconvert_exporter": "python",
   "pygments_lexer": "ipython3",
   "version": "3.9.12"
  }
 },
 "nbformat": 4,
 "nbformat_minor": 5
}
