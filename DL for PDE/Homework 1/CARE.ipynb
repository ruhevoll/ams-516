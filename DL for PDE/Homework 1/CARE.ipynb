{
 "cells": [
  {
   "cell_type": "markdown",
   "id": "90ba525c-bdf3-4e65-b73f-42af25dd4a3f",
   "metadata": {},
   "source": [
    "# Solving Continuous Algebraic Riccati Equations with Python"
   ]
  },
  {
   "cell_type": "markdown",
   "id": "36ba6bad-73d0-474a-92b0-41f7c75a6cd0",
   "metadata": {},
   "source": [
    "We want to solve the equation $$A^T P + PA - PBR^{-1}B^TP + Q - \\rho P = 0 \\tag{$\\star$}$$ for the matrix $P$, where $$ \\rho = 0.1, \\quad A = \\begin{bmatrix} 0 & 1 \\\\ -2 & -3\\end{bmatrix}, \\quad B = \\begin{bmatrix} 0 \\\\ 1\\end{bmatrix}, \\quad G = \\begin{bmatrix} 0.1 & 0 \\\\ 0 & 0.1\\end{bmatrix}, \\quad Q = \\begin{bmatrix} 1 & 0 \\\\ 0 & 1\\end{bmatrix}, \\quad R = [1]$$"
   ]
  },
  {
   "cell_type": "markdown",
   "id": "abc4a8ed-15fe-4f36-b772-3d429f6de5eb",
   "metadata": {},
   "source": [
    "Import the following Python modules:"
   ]
  },
  {
   "cell_type": "code",
   "execution_count": 1,
   "id": "dd8b7e68-998d-4f61-b922-c8117b2ecb37",
   "metadata": {},
   "outputs": [],
   "source": [
    "import numpy as np\n",
    "from scipy.linalg import solve_continuous_are"
   ]
  },
  {
   "cell_type": "markdown",
   "id": "20bfb2f5-63e3-40c4-89c5-7420c89e6d06",
   "metadata": {},
   "source": [
    "Initialize the parameters:"
   ]
  },
  {
   "cell_type": "code",
   "execution_count": 8,
   "id": "a397eb0c-e52d-45ca-96cf-fa80853d1bc6",
   "metadata": {},
   "outputs": [],
   "source": [
    "rho = 0.1\n",
    "A = np.array([[0, 1], [-2, -3]])\n",
    "B = np.array([[0, 1]]).T\n",
    "G = 0.1*np.eye(2) \n",
    "Q = np.eye(2)\n",
    "R = np.eye(1)"
   ]
  },
  {
   "cell_type": "markdown",
   "id": "28078b9c-7697-4d9e-8b5f-b3de4c0b4f68",
   "metadata": {},
   "source": [
    "The function `solve_continuous_are(a, b, q, r, e = None, s = None, balanced = True)` solves the continuous-time algebraic Riccati equation $$A^TX + XA - XBR^{-1}B^T X + Q = 0 \\tag{$\\star \\star$}$$ "
   ]
  },
  {
   "cell_type": "markdown",
   "id": "734da204-acce-45c3-af03-03a98a8f033c",
   "metadata": {},
   "source": [
    "Here, $H$ means the conjugate transpose (which in the case of real matrices, is just transpose). "
   ]
  },
  {
   "cell_type": "markdown",
   "id": "70f54913-7dca-4d5f-a88b-788e741e1f91",
   "metadata": {},
   "source": [
    "Since the equation $(\\star \\star)$ we can solve with `solve_continuous_are` is in a different form than $(\\star)$, we have to modify $A \\to A - \\frac{\\rho}{2} A$ in $(\\star \\star)$."
   ]
  },
  {
   "cell_type": "code",
   "execution_count": 9,
   "id": "6f053ff8-72e9-47f2-b54c-a01c6503e61c",
   "metadata": {},
   "outputs": [],
   "source": [
    "A_mod = A - (rho/2)*A"
   ]
  },
  {
   "cell_type": "markdown",
   "id": "9f3cd999-fa26-431e-ae55-9a188d112586",
   "metadata": {},
   "source": [
    "Now, we can call the function."
   ]
  },
  {
   "cell_type": "code",
   "execution_count": 12,
   "id": "34db26b9-227b-4b81-aaeb-96932b82b769",
   "metadata": {},
   "outputs": [
    {
     "name": "stdout",
     "output_type": "stream",
     "text": [
      "[[1.23606798 0.23606798]\n",
      " [0.23606798 0.23606798]]\n"
     ]
    }
   ],
   "source": [
    "P = solve_continuous_are(A, B, Q, R)\n",
    "print(P)"
   ]
  }
 ],
 "metadata": {
  "kernelspec": {
   "display_name": "Python [conda env:base] *",
   "language": "python",
   "name": "conda-base-py"
  },
  "language_info": {
   "codemirror_mode": {
    "name": "ipython",
    "version": 3
   },
   "file_extension": ".py",
   "mimetype": "text/x-python",
   "name": "python",
   "nbconvert_exporter": "python",
   "pygments_lexer": "ipython3",
   "version": "3.12.3"
  }
 },
 "nbformat": 4,
 "nbformat_minor": 5
}
