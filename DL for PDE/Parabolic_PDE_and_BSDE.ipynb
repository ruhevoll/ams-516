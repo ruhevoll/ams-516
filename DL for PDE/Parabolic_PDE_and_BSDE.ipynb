{
 "cells": [
  {
   "cell_type": "markdown",
   "id": "b125c208-bf9f-4d15-90fb-ddd344466faf",
   "metadata": {},
   "source": [
    "# High-dimensional parabolic PDE and deepBSDE solvers"
   ]
  },
  {
   "cell_type": "markdown",
   "id": "685ac3f7-352f-49ab-8720-826776cad9ac",
   "metadata": {},
   "source": [
    "## 1. Linear PDEs in high dimensions"
   ]
  },
  {
   "cell_type": "markdown",
   "id": "eea70a70-a8cb-49c8-81db-1f9c5ede1810",
   "metadata": {},
   "source": [
    "A second-order, linear, constant-coefficient PDE of the form $$Au_{xx} + 2Bu_{xy} + Cu_{yy} + Du_x + Eu_y + F = 0$$ is **parabolic** if $B^2 - AC = 0$. "
   ]
  },
  {
   "cell_type": "markdown",
   "id": "8bf67461-4997-40a7-84b5-711c71620506",
   "metadata": {},
   "source": [
    "Examples of parabolic PDE include:\n",
    "- The heat equation\n",
    "- The Black-Scholes equation\n",
    "- The HJB equations"
   ]
  },
  {
   "cell_type": "markdown",
   "id": "60ecfba9-6e9e-471f-ad89-f269e39edae0",
   "metadata": {},
   "source": [
    "### 1.1. The Feynman-Kac Formula"
   ]
  },
  {
   "cell_type": "markdown",
   "id": "713ac2a6-59ea-48c1-8181-c20b3da39aa7",
   "metadata": {},
   "source": [
    "Consider the linear parabolic PDEs of a general form $$\\partial_t u(t, x) + \\frac{1}{2} \\mathrm{Tr}\\left(\\sigma \\sigma^T \\Delta_x u\\right)(t, x) + \\nabla_x u(t, x) \\cdot \\mu(t, x) - r(t, x) u(t, x) + f(t, x) = 0, \\qquad t \\in [0, T), x \\in \\mathbb{R}^d \\tag{1}$$"
   ]
  },
  {
   "cell_type": "markdown",
   "id": "5b2d919e-eee0-44e5-bc4c-d39896ac3b5d",
   "metadata": {},
   "source": [
    "with terminal condition $$u(T, x) = g(x), \\qquad x \\in \\mathbb{R}^d, \\tag{2}$$ where $\\mu(t, x), \\sigma(t, x), r(t, x), f(t, x)$ are known functions."
   ]
  },
  {
   "cell_type": "markdown",
   "id": "2ea16117-9c4b-4b78-a6f3-28f405c24f7b",
   "metadata": {},
   "source": [
    "The solution $u(t, x)$ of (1) can be expressed by the **Feynman-Kac** formula, which expresses $u(t, x)$ as a conditional expectation under the probability measure $Q$: $$u(t, x) = \\mathbb{E}^Q \\left[ \\int_t^T e^{-\\int_t^\\tau r(\\nu, x_\\nu) \\, d\\nu} f(\\tau, x_\\tau) \\, d\\tau + e^{-\\int_t^T r(\\nu, x_\\nu) \\, d\\nu} g(x_T) \\Big| x_t = x \\right] \\tag{3}$$ for any $(t, x) \\in [0, T] \\in \\mathbb{R}^d$, in which $x$ is an Itô process satisfying $$dx_t = \\mu(t, x_t) \\ dt + \\sigma(t, x_t) \\ dW_t^Q, \\tag{4}$$ where $W_t^Q$ is a Brownian motion under $Q$."
   ]
  },
  {
   "cell_type": "markdown",
   "id": "f8994130-94b7-460a-a5f8-1b30bc1168b0",
   "metadata": {},
   "source": [
    "### 1.2 Applications to the Black-Scholes equation"
   ]
  },
  {
   "cell_type": "markdown",
   "id": "ea1153a2-a885-4855-a7e6-d948713877ba",
   "metadata": {},
   "source": [
    "- The Feynman-Kac formula is used to efficiently calculate solutions to the BSE to price options on stocks and zero-coupon bond prices in affine term structure models."
   ]
  },
  {
   "cell_type": "markdown",
   "id": "e343da40-f7ea-404c-af34-aa85ff32870c",
   "metadata": {},
   "source": [
    "Consider a stock price $S_t$ undergoing geometric brownian motion $$dS_t = (r_t \\ dt + \\sigma_t \\ dW_t) S_t,$$ where $r_t$ is the risk-free interest rate and $\\sigma_t$ is the volatility. "
   ]
  },
  {
   "cell_type": "markdown",
   "id": "ae1105cb-44c2-4ef8-aebb-51eeaa29cdd1",
   "metadata": {},
   "source": [
    "By Itô's lemma, $$d \\ln S_t = \\left(r_t - \\frac{1}{2} \\sigma_t^2\\right) \\ dt + \\sigma_t \\ dW_t.$$"
   ]
  },
  {
   "cell_type": "markdown",
   "id": "27e8fbbd-30e9-4491-84db-ec0f3fc93319",
   "metadata": {},
   "source": [
    "Consider a European call option on an $S_t$ expiring at time $T$ with strike $K$. At expiry, it is worth $(X_t - K)^+$. Then, the risk-neutral price of the option, at time $t$ and stock price $x$, is $$u(t, x) = E^Q \\left[e^{-\\int_t^T r_s \\ ds} (S_T - K)_+ \\Big| \\ln S_t = \\ln x\\right].$$"
   ]
  },
  {
   "cell_type": "markdown",
   "id": "577e12dd-f8fd-4461-9fe2-c66e6e42f023",
   "metadata": {},
   "source": [
    "Plugging into the Feynman-Kac formula, we obtain the Black-Scholes equation $$\\begin{cases}\\partial_t u + Au - r_t u = 0, \\\\ u(T, x) = (x - K)_+\\end{cases} \\tag{6}$$ where $A = (r_t - \\frac{1}{2} \\sigma_t^2)\\partial_{\\ln x} + \\frac{1}{2} \\sigma_t^2 \\partial_{\\ln x}^2 = r_t x \\partial_x + \\frac{1}{2} \\sigma_t^2 x^2 \\partial_x^2$. "
   ]
  },
  {
   "cell_type": "markdown",
   "id": "499f66e2-3dc4-4fd3-b17b-66cc1d636b3f",
   "metadata": {},
   "source": [
    "- In cases like the American option which does not have a fixed expiry, or when the option has a value at expiry determined by past stock prices, the Feynman-Kac formula does not directly apply. "
   ]
  },
  {
   "cell_type": "markdown",
   "id": "d4a46fe3-00ee-47ac-a192-cbc9149b6407",
   "metadata": {},
   "source": [
    "## 2. The Black-Scholes model for European options"
   ]
  },
  {
   "cell_type": "code",
   "execution_count": null,
   "id": "7d530047-67c3-4718-9783-09b5abb12bbe",
   "metadata": {},
   "outputs": [],
   "source": []
  },
  {
   "cell_type": "markdown",
   "id": "4b7613d4-4bf8-40e3-8c97-0e1c4de871fa",
   "metadata": {},
   "source": [
    "## 3. Semilinear parabolic PDEs"
   ]
  },
  {
   "cell_type": "code",
   "execution_count": null,
   "id": "28b9451a-3578-456e-b8a2-371444539042",
   "metadata": {},
   "outputs": [],
   "source": []
  }
 ],
 "metadata": {
  "kernelspec": {
   "display_name": "Python [conda env:base] *",
   "language": "python",
   "name": "conda-base-py"
  },
  "language_info": {
   "codemirror_mode": {
    "name": "ipython",
    "version": 3
   },
   "file_extension": ".py",
   "mimetype": "text/x-python",
   "name": "python",
   "nbconvert_exporter": "python",
   "pygments_lexer": "ipython3",
   "version": "3.12.3"
  }
 },
 "nbformat": 4,
 "nbformat_minor": 5
}
