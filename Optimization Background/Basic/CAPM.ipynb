{
 "cells": [
  {
   "cell_type": "markdown",
   "id": "6829daee-346a-42d7-b2c1-2a4bd862197a",
   "metadata": {},
   "source": [
    "# The Capital Asset Pricing Model"
   ]
  },
  {
   "cell_type": "code",
   "execution_count": null,
   "id": "25b09507-e7ab-4e3a-94c6-935665431716",
   "metadata": {},
   "outputs": [],
   "source": []
  }
 ],
 "metadata": {
  "kernelspec": {
   "display_name": "Python [conda env:base] *",
   "language": "python",
   "name": "conda-base-py"
  },
  "language_info": {
   "codemirror_mode": {
    "name": "ipython",
    "version": 3
   },
   "file_extension": ".py",
   "mimetype": "text/x-python",
   "name": "python",
   "nbconvert_exporter": "python",
   "pygments_lexer": "ipython3",
   "version": "3.12.3"
  }
 },
 "nbformat": 4,
 "nbformat_minor": 5
}
