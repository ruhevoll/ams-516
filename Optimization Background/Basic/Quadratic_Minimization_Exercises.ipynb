{
 "cells": [
  {
   "cell_type": "markdown",
   "id": "5704153b-e734-4746-91f8-3e47b59a572f",
   "metadata": {},
   "source": [
    "# Quadratic Minimization Exercises"
   ]
  },
  {
   "cell_type": "markdown",
   "id": "578e32a8-7753-47f3-9377-a73c5e00ea8f",
   "metadata": {},
   "source": [
    "> **Problem 1.** Solve $$\\begin{cases}\\text{minimize:} & x_1^2 + 2x_2^2 + x_3^2 \\\\ \\text{subject to:} & x_1 + 2x_2 + x_3 = 4\\end{cases}$$ "
   ]
  },
  {
   "cell_type": "markdown",
   "id": "2feb46ca-559c-42f2-a047-f7b0e02057ac",
   "metadata": {},
   "source": [
    "With $f(x_1, x_2, x_3) = x_1^2 + 2x_2^2 + x_3^2$ and $g(x_1, x_2, x_3) = x_1 + 2x_2 + x_3 - 4$, we have $$\\mathcal{L}(\\mathbf{x}, \\lambda) = x_1^2 + 2x_2^2 + x_3^2 - \\lambda(x_1 + 2x_2 + x_3 - 4).$$"
   ]
  },
  {
   "cell_type": "markdown",
   "id": "0cd501fd-02b6-4682-a40b-a46b7259cdb2",
   "metadata": {},
   "source": [
    "So, $$\\nabla_{\\mathbf{x}, \\lambda} \\mathcal{L} = \\left\\{2x_1 - \\lambda, 4x_2 - 2 \\lambda, 2x_3 - \\lambda, -x_1 - 2x_2 - x_3 + 4 \\right\\}$$"
   ]
  },
  {
   "cell_type": "markdown",
   "id": "5220c4d2-1e5b-4dff-a3a7-c3821134287d",
   "metadata": {},
   "source": [
    "Setting $\\nabla_{\\mathbf{x}, \\lambda} \\mathcal{L} = \\mathbf{0}$ gives the following system of equations: $$\\begin{bmatrix} 2 & 0 & 0 & -1 \\\\ 0 & 4 & 0 & -2 \\\\ 0 & 0 & 2 & -1 \\\\ 1 & 2 & 1 & 0 \\end{bmatrix} \\begin{bmatrix} x_1 \\\\ x_2 \\\\ x_3 \\\\ \\lambda \\end{bmatrix} = \\begin{bmatrix} 0 \\\\ 0 \\\\ 0 \\\\ 4\\end{bmatrix}$$"
   ]
  },
  {
   "cell_type": "markdown",
   "id": "3dcfbf94-fd96-4f7b-aeb2-5c01934a55a5",
   "metadata": {},
   "source": [
    "Which has the solution"
   ]
  },
  {
   "cell_type": "code",
   "execution_count": 3,
   "id": "c1819cc9-c6ed-4af3-b8f7-8af3c678c063",
   "metadata": {},
   "outputs": [
    {
     "data": {
      "text/plain": [
       "array([1., 1., 1., 2.])"
      ]
     },
     "execution_count": 3,
     "metadata": {},
     "output_type": "execute_result"
    }
   ],
   "source": [
    "import numpy as np\n",
    "M = np.array([[2, 0, 0, -1], [0, 4, 0, -2], [0, 0, 2, -1], [1, 2, 1, 0]])\n",
    "b = np.array([0, 0, 0, 4])\n",
    "\n",
    "np.linalg.solve(M,b)"
   ]
  },
  {
   "cell_type": "markdown",
   "id": "89c238b8-1907-4653-a9e1-8eddac0cbb8c",
   "metadata": {},
   "source": [
    "Therefore, $\\mathbf{x} = \\begin{bmatrix} 1 & 1 & 1 \\end{bmatrix}^{\\mathsf{T}}$ and $\\lambda = 2$. "
   ]
  },
  {
   "cell_type": "markdown",
   "id": "e77dcd73-db8f-4911-bda3-ea315bf2d39e",
   "metadata": {},
   "source": [
    "Checking our solution with `scipy`:"
   ]
  },
  {
   "cell_type": "code",
   "execution_count": 11,
   "id": "7c60f304-48d1-4c11-9caf-2747d64fafb7",
   "metadata": {},
   "outputs": [
    {
     "name": "stdout",
     "output_type": "stream",
     "text": [
      "     message: Optimization terminated successfully\n",
      "     success: True\n",
      "      status: 0\n",
      "         fun: 3.999999999999999\n",
      "           x: [ 1.000e+00  1.000e+00  1.000e+00]\n",
      "         nit: 5\n",
      "         jac: [ 2.000e+00  4.000e+00  2.000e+00]\n",
      "        nfev: 21\n",
      "        njev: 5\n",
      " multipliers: [ 2.000e+00]\n"
     ]
    }
   ],
   "source": [
    "from scipy.optimize import minimize, LinearConstraint\n",
    "\n",
    "def objective_function(x):\n",
    "    return x[0]**2 + 2*x[1]**2 + x[2]**2\n",
    "\n",
    "x0 = np.array([0.5, 0.5, 0.5])\n",
    "b = np.array([1, 2, 1])\n",
    "lb = 4\n",
    "ub = 4\n",
    "\n",
    "linear_constraint = LinearConstraint(b, lb, ub)\n",
    "\n",
    "result = minimize(objective_function, x0, constraints = linear_constraint)\n",
    "print(result)"
   ]
  }
 ],
 "metadata": {
  "kernelspec": {
   "display_name": "Python [conda env:base] *",
   "language": "python",
   "name": "conda-base-py"
  },
  "language_info": {
   "codemirror_mode": {
    "name": "ipython",
    "version": 3
   },
   "file_extension": ".py",
   "mimetype": "text/x-python",
   "name": "python",
   "nbconvert_exporter": "python",
   "pygments_lexer": "ipython3",
   "version": "3.12.3"
  }
 },
 "nbformat": 4,
 "nbformat_minor": 5
}
