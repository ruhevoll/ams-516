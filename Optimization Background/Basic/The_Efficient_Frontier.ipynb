{
 "cells": [
  {
   "cell_type": "markdown",
   "id": "d8831bee-3140-4817-bcfe-56828a6aee95",
   "metadata": {},
   "source": [
    "# The Efficient Frontier"
   ]
  },
  {
   "cell_type": "markdown",
   "id": "14b705fc-5081-4028-ad22-e4498168c197",
   "metadata": {},
   "source": [
    "## 2.1 - The Efficient Frontier"
   ]
  },
  {
   "cell_type": "markdown",
   "id": "deaea5d1-f5e3-404c-990e-91262b94dd44",
   "metadata": {},
   "source": [
    "Consider a universe of $n$ assets. \n",
    "- Let $\\mu_i$ denote the **expected return** on asset $i$, $i = 1, \\dots, n$,\n",
    "- Let $\\sigma_{ij}$ denote the covariance between the returns of assets $i$ and $j$, $1 \\leq i, j \\leq n$.\n",
    "Let $$\\boldsymbol{\\mu} = (\\mu_1, \\dots, \\mu_n)^{\\mathsf{T}}, \\qquad \\boldsymbol{\\Sigma} = [\\sigma_{ij}].$$ Here, $\\Sigma$ is the **covariance matrix** for the assets and is SPD.\n",
    "- Let $\\mathbf{x}$ be the **allocation vector**, where $x_i$ denotes the portion of wealth invested in asset $i$.\n",
    "In terms of $\\mathbf{x}$, the **expected return of the portfolio** $\\mu_p$ and the **variance of the portfolio** $\\sigma_p^2$ are given by $$\\mu_p = \\boldsymbol{\\mu}^{\\mathsf{T}}, \\qquad \\sigma_p^2 = \\mathbf{x}^{\\mathsf{T}} \\boldsymbol{\\Sigma} \\mathbf{x}.$$\n",
    "- Let $\\mathbf{l} = (1, 1, \\dots, 1)^{\\mathsf{1}}$ be the $n$-vector of ones. The components of $\\mathbf{x}$ are proportions and must sum to one: $\\mathbf{l}^{\\mathsf{T}}\\mathbf{x} = 1$ (this is called the **budget constraint**)."
   ]
  },
  {
   "cell_type": "markdown",
   "id": "31e32fe0-c74a-4693-ac43-3485ac3667aa",
   "metadata": {},
   "source": [
    "> **Goal:** Choose a value for $\\mathbf{x}$ which gives a large value for $\\mu_p$ and a small value for $\\sigma_p^2$. "
   ]
  },
  {
   "cell_type": "markdown",
   "id": "5d14e136-6c69-4146-803a-04cdf3425ef0",
   "metadata": {},
   "source": [
    "A portfolio is **variance-efficient** if for a fixed $\\mu_p$, there is no other portfolio which has a smaller variance $\\sigma_p^2$. "
   ]
  },
  {
   "cell_type": "markdown",
   "id": "8699dc1d-85da-4637-bae2-1951a7330801",
   "metadata": {},
   "source": [
    "The variance-efficient portfolios are solutions of the optimization problem $$\\min \\{\\mathbf{x}^{\\mathsf{T}}\\boldsymbol{\\Sigma}\\mathbf{x} \\mid \\boldsymbol{\\mu}^{\\mathsf{T}}\\mathbf{x} = \\mu_p, \\quad \\mathbf{l}^{\\mathsf{T}}\\mathbf{x} = 1\\}\\tag{2.1}$$"
   ]
  },
  {
   "cell_type": "markdown",
   "id": "22798832-9297-4eb3-a8e1-266d10ae1375",
   "metadata": {},
   "source": [
    "For each value of $\\mu_p$, we will in general get a different efficient portfolio. \n",
    "\n",
    "(2.1) is an example of a **parametric quadratic programming problem**. "
   ]
  },
  {
   "cell_type": "markdown",
   "id": "7ae95331-c0cf-48cf-a100-8838f32f66f7",
   "metadata": {},
   "source": [
    "- We can also say a portfolio is **expected return-efficient** if for fixed $\\sigma_p^2$, there is no other portfolio with a larger $\\mu_p$. The associated programming problem is:"
   ]
  },
  {
   "cell_type": "markdown",
   "id": "3e883846-55d8-43c0-ada3-7e3c007cf991",
   "metadata": {},
   "source": [
    "$$\\max\\{\\boldsymbol{\\mu}^{\\mathsf{T}}\\mathbf{x} \\mid \\mathbf{x}^{\\mathsf{T}} \\boldsymbol{\\Sigma} \\mathbf{x} = \\sigma_p^2, \\quad \\mathbf{l}^{\\mathsf{T}} \\mathbf{x} = 1\\}. \\tag{2.2}$$"
   ]
  },
  {
   "cell_type": "markdown",
   "id": "f4eb5aa1-4095-49c3-834d-eec80a3c6238",
   "metadata": {},
   "source": [
    "- We can also say that a portfolio is **parametric-efficient** if it is an optimal solution to $$\\min\\{-t\\boldsymbol{\\mu}^{\\mathsf{T}}\\mathbf{x} + \\frac{1}{2} \\mathbf{x}^{\\mathsf{T}}\\boldsymbol{\\Sigma} \\mathbf{x} \\mid \\mathbf{l}^{\\mathsf{T}} = 1\\}. \\tag{2.3}$$"
   ]
  },
  {
   "cell_type": "markdown",
   "id": "8ca63e4d-0d75-483d-879d-531ba2b922de",
   "metadata": {},
   "source": [
    "(2.1)-(2.3) all produce efficient portfolios, and in fact the same families of optimal solutions. For (2.3), $t \\geq 0$, the parameter $t$ balances how much weight is placed on the maximization of $\\boldsymbol{\\mu}^{\\mathsf{T}}\\mathbf{x}$ and the minimization of $\\mathbf{x}^{\\mathsf{T}}\\boldsymbol{\\Sigma}\\mathbf{x}$. If $t = 0$, we obtain the minimum variance portfolio. If $t$ becomes very large, we linear term in (2.3) dominates and the portfolios will be found with higher expected returns at the expense of variance."
   ]
  },
  {
   "cell_type": "markdown",
   "id": "6b2c5194-574e-4465-8d1f-f1341196b1fc",
   "metadata": {},
   "source": [
    "---"
   ]
  },
  {
   "cell_type": "markdown",
   "id": "ce7d59bb-13de-4610-a620-6f419ac50715",
   "metadata": {},
   "source": [
    "- Suppose $\\boldsymbol{\\Sigma}$ is SPD and nonsingular. In this section, we solve (2.3) for $t$."
   ]
  },
  {
   "cell_type": "markdown",
   "id": "4e05bdea-583d-49c6-961d-408f46748428",
   "metadata": {},
   "source": [
    "1. The optimality conditions for (2.3) are $$t\\boldsymbol{\\mu} - \\boldsymbol{\\Sigma}\\mathbf{x} = u \\mathbf{l}, \\qquad \\mathbf{l}^{\\mathsf{T}}\\mathbf{x} = 1. \\tag{2.4}$$"
   ]
  },
  {
   "cell_type": "markdown",
   "id": "f97af1e0-da63-404f-a158-a26d38087a86",
   "metadata": {},
   "source": [
    "2. Solving for $\\mathbf{x}$ gives $$\\mathbf{x} = -u \\boldsymbol{\\Sigma}^{-1}  \\mathbf{l} + t \\boldsymbol{\\Sigma}^{-1} \\boldsymbol{\\mu}. \\tag{2.5}$$"
   ]
  },
  {
   "cell_type": "markdown",
   "id": "b6d311ab-6e58-4f39-976a-e26fa382aee2",
   "metadata": {},
   "source": [
    "3. By virtue of the budget constraint, $$\\mathbf{l}^{\\mathsf{T}}\\mathbf{x} = 1 = - u \\mathbf{l}^{\\mathsf{T}}\\boldsymbol{\\Sigma}^{-1} \\mathbf{l} + t \\mathbf{l}^{\\mathsf{T}}\\boldsymbol{\\Sigma}^{-1} \\boldsymbol{\\mu}.$$"
   ]
  },
  {
   "cell_type": "markdown",
   "id": "c6ebe50f-39de-46de-87da-e3c03aba02a8",
   "metadata": {},
   "source": [
    "4. Solving for $u$ gives $$u = \\frac{-1}{\\mathbf{l}^{\\mathsf{T}} \\boldsymbol{\\Sigma}^{-1} \\mathbf{l}} + t \\frac{\\mathbf{l}^{\\mathsf{T}}\\boldsymbol{\\Sigma}^{-1} \\boldsymbol{\\mu}}{\\mathbf{l}^{\\mathsf{T}}\\boldsymbol{\\Sigma}^{-1}\\mathbf{l}}$$"
   ]
  },
  {
   "cell_type": "markdown",
   "id": "d5df8139-5821-4d50-8224-e662db58deb7",
   "metadata": {},
   "source": [
    "5. Substituting $u$ into (2.5) gives the efficient portfolios as explicit linear functions of $t$: $$\\mathbf{x} \\equiv \\mathbf{x}(t) = \\frac{\\boldsymbol{\\Sigma}^{-1} \\mathbf{l}}{\\mathbf{l}^{\\mathsf{T}}\\boldsymbol{\\Sigma}^{-1} \\mathbf{l}} + t(\\boldsymbol{\\Sigma}^{-1} \\boldsymbol{\\mu} - \\frac{\\mathbf{l}^{\\mathsf{T}} \\boldsymbol{\\Sigma}^{-1} \\boldsymbol{\\mu}}{\\mathbf{l}^{\\mathsf{T}} \\boldsymbol{\\Sigma}^{-1} \\mathbf{l}} \\boldsymbol{\\Sigma}^{-1} \\mathbf{l})$$"
   ]
  },
  {
   "cell_type": "markdown",
   "id": "0a41b50d-8c9d-4c93-94a2-0555c59c8c38",
   "metadata": {},
   "source": [
    "For ease of notation, let $h_0$ be the constant term and $h_1$ be the linear term, so then the efficient portfolios are $$x(t) = \\mathbf{h}_0 + t\\mathbf{h}_1 \\tag{2.8}$$ and so we can compute $\\mu_p$ and $\\sigma_p^2$ in terms of $t$: "
   ]
  },
  {
   "cell_type": "markdown",
   "id": "a484b851-b4e6-4329-9cf3-8056cd1d2ae5",
   "metadata": {},
   "source": [
    "$$\\boxed{\\mu_p = \\boldsymbol{\\mu}^{\\mathsf{T}}\\mathbf{x}(t) = \\boldsymbol{\\mu}^{\\mathsf{T}}\\mathbf{h}_0 + t \\boldsymbol{\\mu}^{\\mathsf{T}}\\mathbf{h}_1} \\tag{2.9}$$"
   ]
  },
  {
   "cell_type": "markdown",
   "id": "04d440a1-471f-44e2-adf8-f1f7ed94de0e",
   "metadata": {},
   "source": [
    "$$\\boxed{\\sigma_p^2 = (\\mathbf{h}_0 + t\\mathbf{h}_1)^{\\mathsf{T}} \\boldsymbol{\\Sigma} (\\mathbf{h}_0 + t \\mathbf{h}_1) = \\mathbf{h}_0^{\\mathsf{T}} \\boldsymbol{\\Sigma} \\mathbf{h}_0 + 2t \\mathbf{h}_1^{\\mathsf{T}} \\boldsymbol{\\Sigma} \\mathbf{h}_0 + t^2 \\mathbf{h}_1^{\\mathsf{T}}\\boldsymbol{\\Sigma}\\mathbf{h}_1}\\tag{2.10}$$"
   ]
  },
  {
   "cell_type": "markdown",
   "id": "70706041-59e4-48ee-9a21-f7d6da0c2d90",
   "metadata": {},
   "source": [
    "6. Letting $$\\alpha_0 = \\boldsymbol{\\mu}^{\\mathsf{T}}\\mathbf{h}_0, \\quad \\alpha_1 = \\boldsymbol{\\mu}^{\\mathsf{T}}\\mathbf{h}_1$$ and $$\\beta_0 = \\mathbf{h}_0^{\\mathsf{T}}\\boldsymbol{\\Sigma} \\mathbf{h}_0, \\quad \\beta_1 = \\mathbf{h}_1^{\\mathsf{T}}\\boldsymbol{\\Sigma} \\mathbf{h}_0, \\quad \\beta_2 = \\mathbf{h}_1^{\\mathsf{T}}\\boldsymbol{\\Sigma} \\mathbf{h}_1$$ we see that $\\beta_2 > 0$ if and only if $\\boldsymbol{\\mu}$ is not a multiple of $\\mathbf{l}$. So, assume it is not a multiple of $\\mathbf{l}$."
   ]
  },
  {
   "cell_type": "markdown",
   "id": "2ca0d00a-4ae3-4777-8250-cbc6584abcd4",
   "metadata": {},
   "source": [
    "7. Therefore, we have $$\\mu_p = \\alpha_0 + \\alpha_1 t, \\qquad \\sigma_p^2 = \\beta_0 + 2 \\beta_1 t + \\beta_2 t^2$$ where $\\mu_p$ is a linear function of $t$ and $\\sigma_p^2$ is a quadratic function of $t$. It actually turns out that $\\beta_1 = 0$. "
   ]
  },
  {
   "cell_type": "markdown",
   "id": "2d4f442c-bd3e-4d16-8fa7-7421995b30c0",
   "metadata": {},
   "source": [
    "8. Solving $\\mu_p$, $\\sigma_p^2$ for $t$ and $t^2$ gives $$t = \\frac{\\mu_p - \\alpha_0}{\\alpha_1}, \\qquad t^2 = \\frac{(\\sigma_p^2 - \\beta_0)}{\\beta_2}$$ whereby it can be shown $\\beta_2 = \\alpha_1$ and so $$\\sigma_p^2 - \\beta_0 = (\\mu_p - \\alpha_0)^2/\\alpha_1. \\tag{2.18}$$"
   ]
  },
  {
   "cell_type": "markdown",
   "id": "e7fa8cfe-2b8e-4fcf-bdba-7dafaa5f8d5e",
   "metadata": {},
   "source": [
    "- (2.18) shows the relationship between the variance and the expected return for efficient portfolios. It is called the **efficient frontier**.\n",
    "- When $t = 0$, the problem becomes minimizing the variance subject to the budget constraint, the expected return plays no role. The resulting portfolio is the **(global) minimum variance portfolio**.\n",
    "    - $\\mathbf{h}_0$ *is* the **minimum variance portfolio**. $\\alpha_0, \\beta_0$ are the expected return and variance of the minimum variance portfolio, respectively. $$\\boxed{\\mathbf{h}_0 = \\frac{\\boldsymbol{\\Sigma}^{-1} \\mathbf{l}}{\\mathbf{l}^{\\mathsf{T}}\\boldsymbol{\\Sigma}^{-1} \\mathbf{l}}, \\qquad \\alpha_0 = \\boldsymbol{\\mu}^{\\mathsf{T}}\\mathbf{h}_0, \\qquad \\beta_0 = \\mathbf{h}_0^{\\mathsf{T}}\\boldsymbol{\\Sigma} \\mathbf{h}_0}$$"
   ]
  },
  {
   "attachments": {
    "404b9777-edd5-4193-9744-a37bbc51e016.png": {
     "image/png": "[encoded data removed]"
    }
   },
   "cell_type": "markdown",
   "id": "d06fe46a-3761-4688-9c25-803819f1195a",
   "metadata": {},
   "source": [
    "![image.png](attachment:404b9777-edd5-4193-9744-a37bbc51e016.png)"
   ]
  },
  {
   "cell_type": "markdown",
   "id": "e92ba71a-ae03-403f-80f3-a0cf1d8ef11e",
   "metadata": {},
   "source": [
    "As $t$ increases from 0, the investor becomes **less risk averse** and trades off in expected return with increased risk, so that $t$ is a measure of risk aversion. \n",
    "- Points on the frontier below the minimum variance point correspond to negative values of $t$. I.e., inefficient portfolios. Only the top half of the efficient frontier is used."
   ]
  },
  {
   "cell_type": "code",
   "execution_count": null,
   "id": "e117817d-0115-4d18-933b-0333390605e8",
   "metadata": {},
   "outputs": [],
   "source": []
  }
 ],
 "metadata": {
  "kernelspec": {
   "display_name": "Python [conda env:base] *",
   "language": "python",
   "name": "conda-base-py"
  },
  "language_info": {
   "codemirror_mode": {
    "name": "ipython",
    "version": 3
   },
   "file_extension": ".py",
   "mimetype": "text/x-python",
   "name": "python",
   "nbconvert_exporter": "python",
   "pygments_lexer": "ipython3",
   "version": "3.12.3"
  }
 },
 "nbformat": 4,
 "nbformat_minor": 5
}
