{
 "cells": [
  {
   "cell_type": "markdown",
   "id": "2ce1be18-6845-46f7-9889-570d622f5ffe",
   "metadata": {},
   "source": [
    "# Optimization in $\\mathbb{R}^n$"
   ]
  },
  {
   "cell_type": "markdown",
   "id": "b087c27f-796b-4c05-9cca-b0232fab8911",
   "metadata": {},
   "source": [
    "## 1. Notions & Notation"
   ]
  },
  {
   "cell_type": "markdown",
   "id": "ee127aeb-103a-4986-8f41-3f3ebe3fe0e2",
   "metadata": {},
   "source": [
    "An **optimization problem** in $\\mathbb{R}^n$ is one where the values of a given function $f: \\mathbb{R}^n \\to \\mathbb{R}$ are to be maximized or minimized over a given set $\\mathcal{D} \\subset \\mathbb{R}^n$."
   ]
  },
  {
   "cell_type": "markdown",
   "id": "85621aac-afe6-4c55-a9f5-d6c30603ac84",
   "metadata": {},
   "source": [
    "- $f$ is the **objective function**\n",
    "- $\\mathcal{D}$ is the **constraint set**"
   ]
  },
  {
   "cell_type": "markdown",
   "id": "da09e308-703b-4994-8454-16d83121ba59",
   "metadata": {},
   "source": [
    "Some optimization problems are presented in **parametric form**, where the objective function and/or the feasible set depend on the value of a parameter $\\theta$. "
   ]
  },
  {
   "cell_type": "markdown",
   "id": "162e8859-5ffc-437a-8565-eab6f15d932f",
   "metadata": {},
   "source": [
    "- $\\Theta$ is the set of all parameters of interest\n",
    "- Given a particular $\\theta \\in \\Theta$, the objective function and feasible set of an optimization problem under $\\theta$ is denoted $f(\\cdot, \\theta)$ and $\\mathcal{D}(\\theta)$, respectively.\n",
    "- $\\mathcal{D}^\\ast(\\theta)$ denotes the set $$\\mathcal{D}^\\ast(\\theta) = \\arg \\max \\{f(x, \\theta) \\mid x \\in \\mathcal{D}(\\theta)\\} = \\{x \\in \\mathcal{D}(\\theta) \\mid f(x \\theta) \\geq f(z, \\theta) \\text{ for all } z \\in \\mathcal{D}(\\theta)\\}.$$ Similarly, $\\mathcal{D}_\\ast(\\theta)$ dentoes the set of minimizers of $f(\\cdot, \\theta)$ on $\\mathcal{D}(\\theta)$. "
   ]
  },
  {
   "cell_type": "markdown",
   "id": "dc77bc5c-a3c5-4cfe-bdc2-63a89a3dcd2f",
   "metadata": {},
   "source": [
    "Abbreviations for inf and sup:\n",
    "- $f^\\ast(\\theta) = \\sup f(\\mathcal{D}(\\theta))$ - called the **maximized value function** of the problem $\\max \\{f(x, \\theta) \\mid x \\in \\mathcal{D}(\\theta)\\}$\n",
    "- $f_\\ast(\\theta) = \\inf f(\\mathcal{D}(\\theta))$ - called the **minimized value function** of the problem $\\min \\{f(x, \\theta) \\mid x \\in \\mathcal{D}(\\theta)\\}$"
   ]
  },
  {
   "cell_type": "markdown",
   "id": "252f3ec8-6da7-424c-af82-83b386c06e5a",
   "metadata": {},
   "source": [
    "## 2. Examples of Optimization Problems"
   ]
  },
  {
   "cell_type": "markdown",
   "id": "90822160-d3db-467e-85bd-2d7c50dd5446",
   "metadata": {},
   "source": [
    "### 2.1 - Utility Maximization"
   ]
  },
  {
   "cell_type": "markdown",
   "id": "d06a2a0a-8501-4afe-9d19-1bf11aab846f",
   "metadata": {},
   "source": [
    "Consider a single agent who consumes $n$ commodities in nonnegative quantities like a gluttonous slob (nobody is going to read this, so I can make as many jokes as I want (: )."
   ]
  }
 ],
 "metadata": {
  "kernelspec": {
   "display_name": "Python [conda env:base] *",
   "language": "python",
   "name": "conda-base-py"
  },
  "language_info": {
   "codemirror_mode": {
    "name": "ipython",
    "version": 3
   },
   "file_extension": ".py",
   "mimetype": "text/x-python",
   "name": "python",
   "nbconvert_exporter": "python",
   "pygments_lexer": "ipython3",
   "version": "3.12.3"
  }
 },
 "nbformat": 4,
 "nbformat_minor": 5
}
