{
 "cells": [
  {
   "cell_type": "markdown",
   "id": "d5765fb0-ae81-4e08-b35c-4df85b8ff621",
   "metadata": {},
   "source": [
    "# Appendix"
   ]
  },
  {
   "cell_type": "markdown",
   "id": "6f7bf36f-5cb6-49e0-b221-0ea285ec14a4",
   "metadata": {},
   "source": [
    "## A.1 - Essential Notation"
   ]
  },
  {
   "cell_type": "markdown",
   "id": "ca5c2d69-ac30-4bda-bb26-c4fa88c4beb0",
   "metadata": {},
   "source": [
    "For $x, y \\in \\mathbb{R}$, $$x \\wedge y = \\min \\{x, y\\}, \\qquad x \\vee y = \\max\\{x, y\\}, \\qquad x^+ = \\max \\{x, 0\\}, \\qquad x^- = \\max\\{-x, 0\\}.$$"
   ]
  },
  {
   "cell_type": "markdown",
   "id": "7a7abfcb-638b-4db8-a315-671d5df77760",
   "metadata": {},
   "source": [
    "## A.2 - Inequalities"
   ]
  },
  {
   "cell_type": "markdown",
   "id": "cb24b8d4-e722-43f4-acce-d625b150823d",
   "metadata": {},
   "source": [
    "- **Fatou's lemma**: Let $(X_n)_{n \\in \\mathbb{N}}$ be a sequence of non-negative random variables. Then $$\\mathbb{E} \\left[\\liminf_{n \\to \\infty} X_n\\right] \\leq \\liminf_{n \\to \\infty} \\mathbb{E}[X_n].$$ Also,\n",
    "    - If there exists an r.v. $Y$ such that $\\mathbb{E}[|Y|] < \\infty$ and $Y \\leq X_n$ for all $n$ (allowing $X_n < 0$), then $$\\mathbb{E} \\left[\\liminf_{n \\to \\infty} X_n\\right] \\leq \\liminf_{n \\to \\infty} \\mathbb{E}[X_n].$$\n",
    "    - If there exists an r.v. $Y$ such that $E[|Y|] < \\infty$ and $Y \\geq X_n$ for all $n$, then $$\\mathbb{E} \\left[\\limsup_{n \\to \\infty} X_n\\right] \\geq \\limsup_{n \\to \\infty} \\mathbb{E}[X_n].$$"
   ]
  },
  {
   "cell_type": "markdown",
   "id": "65b4210f-3d02-47ff-8d5b-6a283024d400",
   "metadata": {},
   "source": [
    "A version of Fatou's lemma exists for conditional expectations (replace $\\mathbb{E}[\\cdot]$ with $\\mathbb{E}[\\cdot \\mid \\mathcal{F}_t]$). "
   ]
  },
  {
   "cell_type": "markdown",
   "id": "45dbda12-df1f-4c56-b0cd-2f9e7f333e96",
   "metadata": {},
   "source": [
    "- **Hölder's inequality**: Let $(X, \\mathcal{X}, \\mu)$ be a measure space. Let $p, q > 1$ be real numbers such that $1/p + 1/q = 1$ or let $p = 1, q = \\infty$. For $f \\in L^p(X, \\mu)$, $g \\in L^q(X, \\mu)$, we have $$\\int_X |fg| \\ d\\mu \\leq \\left(\\int_X |f|^p \\ d\\mu\\right)^{1/p} \\left(\\int_X |g|^q \\ d\\mu\\right)^{1/q}.$$ In the particular case that $p, q$ are conjugates and $X \\in L^p(\\Omega), Y \\in L^q(\\Omega)$ are random variables, then $$\\mathbb{E}[|XY|] \\leq \\mathbb{E}[|X|^p]^{1/p} \\mathbb{E}[|Y|^q]^{1/q}.$$"
   ]
  },
  {
   "cell_type": "markdown",
   "id": "5c17e70d-27d8-426b-a694-7a388898de6f",
   "metadata": {},
   "source": [
    "- **Minkowski's inequality**: For any $p \\in [1, \\infty]$ and $f, g \\in L^p(X, \\mu)$, $$\\left(\\int_X |f + g|^p \\ d\\mu\\right) \\leq \\left(\\int_X |f|^p \\ d\\mu\\right) + \\left(\\int_X |g|^p \\ d\\mu\\right)^{1/p}.$$"
   ]
  },
  {
   "cell_type": "markdown",
   "id": "55684098-4088-41d7-a7a9-c8bffd101a0a",
   "metadata": {},
   "source": [
    "- **Jensen's inequality**: If $f$ is a convex function and $X$ any random variable with $\\mathbb{E}[|X|] < \\infty$, then $$f(\\mathbb{E}[X]) \\leq \\mathbb{E}[f(X)].$$"
   ]
  },
  {
   "cell_type": "markdown",
   "id": "74995653-94ab-4beb-a356-64350ac58811",
   "metadata": {},
   "source": [
    "## A.3 - Stochastic Processes & Martingales"
   ]
  },
  {
   "cell_type": "markdown",
   "id": "105bf52a-97da-47ef-b875-acafcf16299c",
   "metadata": {},
   "source": [
    "Let $X$ be a stochastic process adapted to the filtration $(\\mathcal{F}_t)_{t \\geq 0}$ and such that for every $t \\geq 0$, $\\mathbb{E}[|X_t|] < \\infty$. If for every $0 \\leq s < t \\leq T$, we have\n",
    "- $\\mathbb{E}[X_t \\mid \\mathcal{F}_s] \\geq X_s$ a.s. then the process is called a **submartingale**.\n",
    "- $\\mathbb{E}[X_t \\mid \\mathcal{F}_s] \\leq X_s$ a.s. then the process is called a **supermartingale**.\n",
    "- $\\mathbb{E}[X_t \\mid \\mathcal{F}_s] = X_s$ a.s. then the process is called a **martingale**. "
   ]
  },
  {
   "cell_type": "markdown",
   "id": "7474cd7d-f647-472e-88e1-f687ce1fd37d",
   "metadata": {},
   "source": [
    "### Examples of Martingales"
   ]
  },
  {
   "cell_type": "markdown",
   "id": "3b1c70c9-1c18-4aa0-8d71-4de067913609",
   "metadata": {},
   "source": [
    "1. **Unbiased Random Walk.** For $n \\in \\mathbb{N}$, let $X_1, \\dots, X_n$ be i.i.d. with $$X_n = \\begin{cases} +1 & \\text{with probability 1/2} \\\\ -1 & \\text{with probability 1/2}\\end{cases}$$ Then, let $$W_n = \\sum_{i = 1}^n X_i.$$ Therefore, $W = \\{W_n\\}_{n \\in \\mathbb{N}}$ is a stochastic process called the 1 dimensional random walk. Define the filtration $$\\mathcal{F}_n = \\sigma(X_1, \\dots, X_n)$$ to which $W$ is clearly adapted. Also, $$\\mathbb{E}[|W_n|] = \\mathbb{E}\\left[\\left|\\sum_{i = 1}^n X_i\\right|\\right] \\leq \\sum_{i = 1}^n \\mathbb{E}\\left[|X_i|\\right] = n < \\infty.$$ It remains to show that $W$ is a martingale. For $m < n$, we have $$\\begin{align*} \\mathbb{E}[W_n \\mid \\mathcal{F}_m] &= \\mathbb{E}\\left[\\sum_{i = 1}^n X_i\\mid \\sigma(X_1, \\dots, X_m)\\right] \\\\ &= \\sum_{i =1 }^n \\mathbb{E}[X_i \\mid \\sigma(X_1, \\dots, X_m)] \\\\ &= \\sum_{i = 1}^m X_i + \\sum_{i = m + 1}^n \\mathbb{E}[X_i \\mid \\sigma(X_1, \\dots, X_m)]\\end{align*}$$ Since $X_i$ and $\\sigma(X_1, \\dots, X_m)$ are independent for $i > m$, we have $\\mathbb{E}[X_i | \\sigma(X_1, \\dots, X_m)] = \\mathbb{E}[X_i] = 0$ for $i > m$. Therefore, the above becomes $$\\sum_{i = 1}^m X_i + \\sum_{i = m + 1}^n \\mathbb{E}[X_i \\mid \\sigma(X_1, \\dots, X_m)] = \\sum_{i = 1}^m X_i = W_m.$$ That is, we have shown that $\\mathbb{E}[W_n \\mid \\mathcal{F}_m] = W_m$, and thus $W$ is a martingale."
   ]
  },
  {
   "cell_type": "markdown",
   "id": "588f45e5-3318-4e31-a970-d5a0515d6395",
   "metadata": {},
   "source": [
    "### Doob's subs and local martingales"
   ]
  },
  {
   "cell_type": "markdown",
   "id": "47775fc4-d51e-43a6-a3da-a94cbb1445c7",
   "metadata": {},
   "source": [
    "> **Doob's submartingale inequality:** Let $X \\geq 0$ be an $(\\mathcal{F}_t)_{t \\in [0, T]}$-submartingale and $p > 1$ be given. Assume $\\mathbb{E}[X_T^p] < \\infty$. Then $$\\mathbb{E}\\left[\\sup_{0 \\leq t \\leq T} X_t^p\\right] \\leq \\left(\\frac{p}{p - 1}\\right)^p \\mathbb{E}[X_T^p].$$"
   ]
  },
  {
   "cell_type": "markdown",
   "id": "b43d5c5f-e377-4b6a-b43a-d13d20dd1356",
   "metadata": {},
   "source": [
    "A stochastic process $X$ is a **local martingale** if there exists a sequence of **stopping times** $(\\tau_n)_{n \\in \\mathbb{N}}$ such that $\\tau_n \\leq \\tau_{n + 1}$ and $\\tau_n \\to \\infty$ as $n \\to \\infty$ and if the **stopped process** $(X(t \\wedge \\tau_n))_{t \\geq 0}$ is a martingale for every $n$. \n",
    "- Recall that $\\tau$ is a stopping time with respect to a filtration $\\mathbb{F}$ if it is a random variable $\\tau: \\Omega \\to [0, \\infty]$ such that $\\{\\tau \\leq t\\} \\in \\mathcal{F}_t$ for all $t \\geq 0$.  "
   ]
  },
  {
   "cell_type": "markdown",
   "id": "5ad1c535-8816-429a-9557-7a91e40ff865",
   "metadata": {},
   "source": [
    "> **Bounded from below local martingales are supermartingales:** Let $(M_t)_{t \\in [0, T]}$ be a local martingale and assume it is positive or more generally bounded from below. Then $M$ is a super-martingale."
   ]
  },
  {
   "cell_type": "markdown",
   "id": "cedde220-8c12-4569-b66b-e4212af1882a",
   "metadata": {},
   "source": [
    "- The above result follows from Fatou's lemma. Since $M$ is a local Martingale, then there exists a sequence of stopping times $(\\tau_n)_{n \\in \\mathbb{N}}$ increasing to infinity such that $M_t^n := M_{t \\wedge \\tau_n}$ is a martingale. Using Fatou's lemma for $0 \\leq s \\leq t \\leq T$, $$\\mathbb{E}[M_t \\mid \\mathcal{F}_s] = \\mathbb{E} [\\liminf_{n\\to \\infty} M_t^n\\mid \\mathcal{F}_s] \\leq \\liminf_{n \\to \\infty} \\mathbb{E}[M_t^n \\mid \\mathcal{F}_s] = \\liminf_{n \\to \\infty} M_s^n = M_s,$$ so that $M$ is a supermartingale."
   ]
  },
  {
   "cell_type": "markdown",
   "id": "63d1e915-5ca4-4bf2-bbd1-d8b0810b63db",
   "metadata": {},
   "source": [
    "- Alternatively, if $(M_t)_{t \\in [0, T]}$ is a local martingale that is bounded from above, then $$\\mathbb{E}[M_t | \\mathcal{F}_s] = \\mathbb{E}[\\limsup_{n \\to \\infty} M_t^n \\mid \\mathcal{F}_s] \\geq \\limsup_{n \\to \\infty} \\mathbb{E} [M_t^n \\mid \\mathcal{F}_s] = \\limsup_{n \\to \\infty} M_s^n = M_s.$$ So, $M$ is a submartingale. Here, we used the reverse form of Fatou's lemma."
   ]
  },
  {
   "cell_type": "markdown",
   "id": "36558788-5492-4ba4-b858-c048aa6f7136",
   "metadata": {},
   "source": [
    "## A.4 - Integration"
   ]
  },
  {
   "cell_type": "markdown",
   "id": "d8749260-8b7e-4759-afe4-4552025973d2",
   "metadata": {},
   "source": [
    "- Let $\\mathcal{H}$ denote all $\\mathbb{R}$-valued and adapted processes $g$ such that for any $T > 0$, $$||g||_{\\mathcal{H}_T}^2 := \\mathbb{E} \\left[\\int_0^T |g_s|^2 \\ ds\\right] < \\infty.$$\n",
    "- Let $\\mathcal{S}$ denote all $\\mathbb{R}$-valued and adapted processes $g$ such that for any $T > 0$ we have $$\\mathbb{P}\\left[\\int_0^T |g_s|^2 \\ ds < \\infty\\right] = 1.$$\n",
    "\n",
    "These classes are important in the sense that the stochastic integral with respect to $W$ is defined for all integrands in class $\\mathcal{S}$, and this stochastic integral is a *continuous local martingale*. For class $\\mathcal{H}$, ths stochastic integral with respect to $W$ is a martingale. Note that $\\mathcal{H} \\subset \\mathcal{S}$. "
   ]
  },
  {
   "cell_type": "markdown",
   "id": "19b40d46-f587-42c1-9f87-58d14a3cf8cb",
   "metadata": {},
   "source": [
    "- Let $\\mathcal{A}$ denote all $\\mathbb{R}$-valued and adapted processes $g$ such that for any $T > 0$ we have $$\\mathbb{P}\\left[\\int_0^T |g_s| \\ ds < \\infty\\right] = 1.$$\n",
    "- By $\\mathcal{H}^{d \\times n}$, $\\mathcal{S}^{d \\times n}$ we denote processes taking values in the space of $d \\times n$-matrices such that each component of the matrix is in $\\mathcal{H}$ or $\\mathcal{S}$ respectively. By $\\mathcal{A}^d$ we denote processes taking values in $\\mathbb{R}^d$ with each component in $\\mathcal{A}$. "
   ]
  },
  {
   "cell_type": "markdown",
   "id": "214a9e48-2042-421b-9139-2351b9d8d1ab",
   "metadata": {},
   "source": [
    "### Itô processes and Itô's Formula"
   ]
  },
  {
   "cell_type": "markdown",
   "id": "f0a36221-803e-4996-98cc-0e38f483819b",
   "metadata": {},
   "source": [
    "- Let $W$ be an $n$-dimensional Wiener martingale with respect to $(\\mathcal{F})_{t \\geq 0}$. Let $\\sigma \\in \\mathcal{S}^{m \\times d}$ and let $ b\\in \\mathcal{A}^m$. The $d$-dimensional process $X$ is said to **have the stochastic differential** $$dX_t = b_t \\ d_t + \\sigma_t \\ dW_t$$ for $t \\in [0, T]$ if $$X_t = X_0 + \\int_0^t b_s \\ ds + \\int_0^t \\sigma_s \\ dW(s).$$"
   ]
  },
  {
   "cell_type": "markdown",
   "id": "1bdc40ac-d8e1-4f23-883b-ef1c57c0a4a0",
   "metadata": {},
   "source": [
    "> **Multi-dimensional Itô formula:** Let $X$ be an $m$-dimensional Itô process. Let $u \\in C^{1, 2}([0, T] \\times \\mathbb{R}^m)$. Then, the process given by $u(t, X_t)$ has the stochastic differential $$du(t, X_t) \\ dt = \\partial_t u(t, X_t) \\ dt + \\sum_{i = 1}^d \\partial_{x_i} u(t, X_t) \\ dX_t^i + \\frac{1}{2} \\sum_{i, j = 1}^d \\partial_{x_i, x_j} u(t, X_t) \\ dX_t^i \\ dX_t^j,$$ where for $i, j = 1, \\dots, m$ $$dt \\ dt = dt \\ dW_t^i = 0, \\qquad dW_t^i \\ dW_t^j = \\delta_{ij} \\ dt.$$"
   ]
  },
  {
   "cell_type": "markdown",
   "id": "ee812701-aa18-46a7-843e-223046eaea82",
   "metadata": {},
   "source": [
    "> **Itô's product rule:** Let $X$ and $Y$ be $\\mathbb{R}$-valued Itô processes. Then $$d(X_t Y_t) = X_t \\ dY_t + Y_t \\ dX_t + dX_t \\ dY_t.$$"
   ]
  },
  {
   "cell_type": "markdown",
   "id": "0816cbb8-0584-4a08-8352-03817740c28b",
   "metadata": {},
   "source": [
    "### Martingale Representation Formula and Girsanov's Theorem"
   ]
  },
  {
   "cell_type": "markdown",
   "id": "83b445c5-9b59-40ae-b9e8-12d2ec174cbb",
   "metadata": {},
   "source": [
    "> **Lévy characterization:** Let $(\\mathcal{F}_t)_{t \\in [0, T]}$ be a filtration. Let $X = (X_t)_{t \\in [0, T]}$ be a continuous $m$-dimensional local martingale with respect to $(\\mathcal{F}_t)_{t \\in [0, T]}$ such that $X_0 = 0$ and $dX_t^i \\ dX_t^j = \\delta_{ij} \\ dt$ for $i, j = 1, \\dots, d$. Then $X$ is a Wiener martingale with respect to $(\\mathcal{F}_t)_{t \\in [0, T]}$. **That is, any continuous local martingale with the right quadratic variation is a Wiener process.**"
   ]
  },
  {
   "cell_type": "markdown",
   "id": "42d4d43d-f77c-4768-9a16-99e88d5d3a30",
   "metadata": {},
   "source": [
    "> **Girsanov's Theorem:** Let $(\\mathcal{F}_t)_{t \\in [0, T]}$ be a filtration. Let $W = (W_t)_{t \\in [0, T]}$ be a $d$-dimensional Wiener martingale with respect to $(\\mathcal{F}_t)_{t \\in [0, T]}$. Let $\\varphi = (\\varphi_t)_{t \\in [0, T]}$ be a $d$ dimensional Wiener process adapted to $(\\mathcal{F}_t)_{t \\in [0, T]}$ such that $$\\mathbb{E} \\left[\\int_0^T |\\varphi_s|^2 \\ ds\\right] < \\infty.$$ Let $$L_t := \\exp \\left\\{-\\int_0^t \\varphi_s^T \\ dW(s) - \\frac{1}{2} \\int_0^t |\\varphi_s|^2 \\ ds\\right\\}$$ and assume that $\\mathbb{E}[L_T] = 1$. Let $\\mathbb{Q}$ be a new measure on $\\mathcal{F}_T$ given by the Radon-Nikodym derivative $d \\mathbb{Q} = L(T) \\ d\\mathbb{P}$. Then, $$W_t^\\mathbb{Q} := W_t + \\int_0^t \\varphi_s \\ ds$$ is a $\\mathbb{Q}$-Wiener martingale."
   ]
  },
  {
   "cell_type": "markdown",
   "id": "f24abe22-29a5-4c1d-a35c-80eccace34cf",
   "metadata": {},
   "source": [
    "- Clearly $L_0 = 1$,\n",
    "- The **Novikov condition** is a useful way of establishing that $\\mathbb{E}[L_T] = 1$: If $$\\mathbb{E}\\left[e^{\\frac{1}{2} \\int_0^T |\\varphi_t|^2 \\ dt}\\right] < \\infty$$ then $L$ is a martingale, so $\\mathbb{E}[L_T] = \\mathbb{E}[L_0] = 1$.\n",
    "- By Itô's formula on $f(x) = \\exp(x)$ and $dX_t = -\\varphi_t^T \\ dW_t - \\frac{1}{2} |\\varphi_t|^2 \\ dt$ we obtain $$dL_t = -L_t\\varphi_t^T \\ dW_t.$$"
   ]
  },
  {
   "cell_type": "markdown",
   "id": "6317ada4-eac1-4532-84c1-8e23b7a61394",
   "metadata": {},
   "source": [
    "The following theorem says we can write continuous martingales as stochastic integrals with respect to some process as long as they're adapted to the filtration generated by the process."
   ]
  },
  {
   "cell_type": "markdown",
   "id": "7a7c1ca2-d0ea-4204-9be3-f17e9991992e",
   "metadata": {},
   "source": [
    "> **Martingale Representation Theorem:** Let $W$ be a $d$-dimensional Wiener martingale on $[0, T]$ and $\\mathbb{F}$ the filtration generated by $W$. Let $M$ be a continuous real-valued martingale with respect to $\\mathbb{F}$. Then there exists a unique $d$-dimensional process $h = (h_t)_{t \\in [0, T]}$ such that for $t \\in [0, T]$ we have $$M_t = M_0 + \\sum_{i = 1}^d \\int_0^t h_s^i \\ dW_s^i.$$ If the martingale $M$ is square integrable then $h$ is in $\\mathcal{H}$. "
   ]
  },
  {
   "cell_type": "markdown",
   "id": "3f5f0646-adc2-470b-9b0f-aa9cecef0a5e",
   "metadata": {},
   "source": [
    "## A.5 - PDEs and the Feynman-Kac Formula"
   ]
  },
  {
   "cell_type": "markdown",
   "id": "b371db78-ea19-4dcd-a013-73118fd612af",
   "metadata": {},
   "source": [
    "- Let $b$ and $\\sigma$ be deterministic functions in $$dX_t = b_t(X_t) \\ dt + \\sigma_t(X_t) \\ dW_t, \\qquad t \\in [0, T], \\qquad X_0 = \\xi.$$ For all $t \\in [0, T]$, the following second-order differential operator $\\mathcal{L}$ is called the **infinitesimal generator association to the diffusion** $dX_t$, $$\\mathcal{L}\\varphi(t, x) = b(t, x) D\\varphi(t, x) + \\frac{1}{2} \\mathrm{Tr}(\\sigma \\sigma^T D^2 \\varphi)(t, x), \\qquad \\varphi \\in C^{0, 2}([0, T] \\times \\mathbb{R}^m).$$ "
   ]
  },
  {
   "cell_type": "markdown",
   "id": "2dcf3b7e-b625-4160-a3cd-6fd02b4c9935",
   "metadata": {},
   "source": [
    "> **The Feynman-Kac Formula in 1 Dimension:** Assume that the function $v: [0, T] \\times \\mathbb{R} \\to \\mathbb{R}$ be longs to $C^{1, 2}([0, T) \\times \\mathbb{R}) \\cap C^0([0, T] \\times \\mathbb{R})$ and is a solution of the following boundary value problem $$\\begin{align*}\\partial_t v(t, x) + b(t, x) \\partial_x v(t, x) + \\frac{1}{2} \\sigma^2 (t, x) \\partial_{xx} v(t, x) - rv(t, x) &= 0, \\\\ v(T, x) &= h(x), \\end{align*}$$ where $b$ and $\\sigma$ are deterministic functions. For any $(t, x) \\in [0, T] \\times \\mathbb{R}$, define the stochastic process $(X_s)_{s \\in [t, T]}$ as the solution to the SDE $$dX_s = b(s, X_s) \\ ds + \\sigma(s, X_s) \\ dW_s, \\qquad \\forall s \\in [t, T], \\qquad X_t = x.$$ Assume that the stochastic process $(e^{-rs} \\sigma(s, X_s) \\partial_x v(s, X_s))_{s \\in [t, T]} \\in L^2([0, T] \\times \\mathbb{R})$. Then, the solution $v$ of the above PDE can be expressed as (with $\\mathbb{E}_{t, x}[\\cdot] := \\mathbb{E}[\\cdot \\mid X_t = x]$) $$v(t, x) = e^{-r(T - t)} \\mathbb{E}_{t, x}[h(X_T)] \\qquad \\forall (t, x) \\in [0, T] \\times \\mathbb{R}.$$"
   ]
  },
  {
   "cell_type": "code",
   "execution_count": null,
   "id": "f639f97f-d083-4aef-8ae3-a4eac115601c",
   "metadata": {},
   "outputs": [],
   "source": []
  }
 ],
 "metadata": {
  "kernelspec": {
   "display_name": "Python [conda env:base] *",
   "language": "python",
   "name": "conda-base-py"
  },
  "language_info": {
   "codemirror_mode": {
    "name": "ipython",
    "version": 3
   },
   "file_extension": ".py",
   "mimetype": "text/x-python",
   "name": "python",
   "nbconvert_exporter": "python",
   "pygments_lexer": "ipython3",
   "version": "3.12.3"
  }
 },
 "nbformat": 4,
 "nbformat_minor": 5
}
